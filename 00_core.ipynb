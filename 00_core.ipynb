{
 "cells": [
  {
   "cell_type": "code",
   "execution_count": null,
   "metadata": {},
   "outputs": [],
   "source": [
    "# default_exp core"
   ]
  },
  {
   "cell_type": "code",
   "execution_count": null,
   "metadata": {},
   "outputs": [],
   "source": [
    "%load_ext autoreload\n",
    "%autoreload 2"
   ]
  },
  {
   "cell_type": "markdown",
   "metadata": {},
   "source": [
    "# MS Peptide Stability\n",
    "\n",
    "> Compute peptide Tm from MS peptide stability data. Useful for pMHC analysis. "
   ]
  },
  {
   "cell_type": "code",
   "execution_count": null,
   "metadata": {},
   "outputs": [],
   "source": [
    "# hide\n",
    "from nbdev.showdoc import *\n",
    "from matplotlib import pyplot as plt\n",
    "import pandas as pd\n",
    "import scipy as sp\n",
    "import numpy as np\n",
    "from scipy.optimize import curve_fit\n",
    "import os\n",
    "from scipy.special import expit"
   ]
  },
  {
   "cell_type": "code",
   "execution_count": null,
   "metadata": {},
   "outputs": [],
   "source": [
    "# Decaying sigmoid\n",
    "def sigmoid(x, x0, k):\n",
    "    y = expit(-k*(x-x0))\n",
    "    return y"
   ]
  },
  {
   "cell_type": "code",
   "execution_count": null,
   "metadata": {},
   "outputs": [
    {
     "data": {
      "text/html": [
       "<div>\n",
       "<style scoped>\n",
       "    .dataframe tbody tr th:only-of-type {\n",
       "        vertical-align: middle;\n",
       "    }\n",
       "\n",
       "    .dataframe tbody tr th {\n",
       "        vertical-align: top;\n",
       "    }\n",
       "\n",
       "    .dataframe thead th {\n",
       "        text-align: right;\n",
       "    }\n",
       "</style>\n",
       "<table border=\"1\" class=\"dataframe\">\n",
       "  <thead>\n",
       "    <tr style=\"text-align: right;\">\n",
       "      <th></th>\n",
       "      <th>temp</th>\n",
       "      <th>TMT</th>\n",
       "      <th>tmt_total</th>\n",
       "    </tr>\n",
       "  </thead>\n",
       "  <tbody>\n",
       "    <tr>\n",
       "      <th>0</th>\n",
       "      <td>37</td>\n",
       "      <td>TMT_129</td>\n",
       "      <td>TMT_129_total</td>\n",
       "    </tr>\n",
       "    <tr>\n",
       "      <th>1</th>\n",
       "      <td>46</td>\n",
       "      <td>TMT_128</td>\n",
       "      <td>TMT_128_total</td>\n",
       "    </tr>\n",
       "    <tr>\n",
       "      <th>2</th>\n",
       "      <td>53</td>\n",
       "      <td>TMT_130</td>\n",
       "      <td>TMT_130_total</td>\n",
       "    </tr>\n",
       "    <tr>\n",
       "      <th>3</th>\n",
       "      <td>62</td>\n",
       "      <td>TMT_126</td>\n",
       "      <td>TMT_126_total</td>\n",
       "    </tr>\n",
       "    <tr>\n",
       "      <th>4</th>\n",
       "      <td>70</td>\n",
       "      <td>TMT_131</td>\n",
       "      <td>TMT_131_total</td>\n",
       "    </tr>\n",
       "  </tbody>\n",
       "</table>\n",
       "</div>"
      ],
      "text/plain": [
       "   temp      TMT      tmt_total\n",
       "0    37  TMT_129  TMT_129_total\n",
       "1    46  TMT_128  TMT_128_total\n",
       "2    53  TMT_130  TMT_130_total\n",
       "3    62  TMT_126  TMT_126_total\n",
       "4    70  TMT_131  TMT_131_total"
      ]
     },
     "execution_count": null,
     "metadata": {},
     "output_type": "execute_result"
    }
   ],
   "source": [
    "# Load experimental parameters\n",
    "def load_params(data_dir, peptide_file, tmt_file):\n",
    "    peptides = pd.read_csv(peptide_file, index_col=0, sep=' ')\n",
    "    tmt_params = pd.read_csv(tmt_file, sep=' ')\n",
    "    # Add a column referencing tmt_total in the PSM export\n",
    "    tmt_params['tmt_total'] = tmt_params['TMT'] + '_total'\n",
    "    return (peptides, tmt_params)\n",
    "\n",
    "\n",
    "# Example\n",
    "data_dir = '~/Documents/Hacohen/Data/2021/6-22-21/'\n",
    "peptide_file = os.path.join(data_dir, 'peptides.csv')  # Peptides for analysis\n",
    "tmt_file = os.path.join(data_dir, 'tmt_map.csv')\n",
    "peptide_lst, tmt_params = load_params(data_dir, peptide_file, tmt_file)\n",
    "tmt_params"
   ]
  },
  {
   "cell_type": "code",
   "execution_count": null,
   "metadata": {},
   "outputs": [
    {
     "data": {
      "text/plain": [
       "TMT_129_total    1.000000\n",
       "TMT_128_total    1.007698\n",
       "TMT_130_total    0.998536\n",
       "TMT_126_total    1.002806\n",
       "TMT_131_total    0.987047\n",
       "dtype: float64"
      ]
     },
     "execution_count": null,
     "metadata": {},
     "output_type": "execute_result"
    }
   ],
   "source": [
    "# Load PSM data and compute normalization\n",
    "\n",
    "def compute_iRT_norm(ms_data):\n",
    "    # Calculate normalization for TMT data from IRT peptides\n",
    "    iRT_data = ms_data[ms_data['species'] == 'Biognosys-iRT']\n",
    "    iRT_tmt = iRT_data[tmt_params['tmt_total'].values]\n",
    "    iRT_tmt_log_mean = iRT_tmt.apply(np.log10).mean()\n",
    "    iRT_tmt_norm = iRT_tmt_log_mean/iRT_tmt_log_mean[0]\n",
    "    return iRT_tmt_norm\n",
    "\n",
    "\n",
    "psm_file = 'peptideExport.CS.3.csv'\n",
    "ms_data = pd.read_csv(os.path.join(data_dir, psm_file), sep=';')\n",
    "ms_peptide_data = ms_data[ms_data['sequence'].isin(\n",
    "    peptide_lst['seq'])]  # Select peptides from peptide list\n",
    "iRT_norm_factor = compute_iRT_norm(ms_data)\n",
    "iRT_norm_factor"
   ]
  },
  {
   "cell_type": "code",
   "execution_count": null,
   "metadata": {},
   "outputs": [
    {
     "data": {
      "text/html": [
       "<div>\n",
       "<style scoped>\n",
       "    .dataframe tbody tr th:only-of-type {\n",
       "        vertical-align: middle;\n",
       "    }\n",
       "\n",
       "    .dataframe tbody tr th {\n",
       "        vertical-align: top;\n",
       "    }\n",
       "\n",
       "    .dataframe thead th {\n",
       "        text-align: right;\n",
       "    }\n",
       "</style>\n",
       "<table border=\"1\" class=\"dataframe\">\n",
       "  <thead>\n",
       "    <tr style=\"text-align: right;\">\n",
       "      <th></th>\n",
       "      <th>TMT_129_total</th>\n",
       "      <th>TMT_128_total</th>\n",
       "      <th>TMT_130_total</th>\n",
       "      <th>TMT_126_total</th>\n",
       "      <th>TMT_131_total</th>\n",
       "    </tr>\n",
       "  </thead>\n",
       "  <tbody>\n",
       "    <tr>\n",
       "      <th>151</th>\n",
       "      <td>5.658345e+09</td>\n",
       "      <td>4.188397e+09</td>\n",
       "      <td>1.828361e+09</td>\n",
       "      <td>1.453866e+07</td>\n",
       "      <td>2.686582e+06</td>\n",
       "    </tr>\n",
       "  </tbody>\n",
       "</table>\n",
       "</div>"
      ],
      "text/plain": [
       "     TMT_129_total  TMT_128_total  TMT_130_total  TMT_126_total  TMT_131_total\n",
       "151   5.658345e+09   4.188397e+09   1.828361e+09   1.453866e+07   2.686582e+06"
      ]
     },
     "execution_count": null,
     "metadata": {},
     "output_type": "execute_result"
    }
   ],
   "source": [
    "# Normalize peptide data\n",
    "peptide_tmt = ms_peptide_data[tmt_params['tmt_total'].values]\n",
    "peptide_tmt_norm = peptide_tmt/iRT_norm_factor\n",
    "peptide_tmt_norm.head()"
   ]
  },
  {
   "cell_type": "markdown",
   "metadata": {},
   "source": [
    "## Analyze individual peptides\n",
    "> Plot stability results for a single peptide"
   ]
  },
  {
   "cell_type": "code",
   "execution_count": null,
   "metadata": {},
   "outputs": [
    {
     "name": "stdout",
     "output_type": "stream",
     "text": [
      "Tm = 50.072313311538615\n"
     ]
    },
    {
     "data": {
      "image/png": "[encoded data removed]",
      "text/plain": [
       "<Figure size 432x288 with 1 Axes>"
      ]
     },
     "metadata": {
      "needs_background": "light"
     },
     "output_type": "display_data"
    }
   ],
   "source": [
    "# Plot normalized TMT for a peptide of interest\n",
    "def compute_stability(x, y):\n",
    "    # Fit a sigmoid to the data (normalized to 1 to match the function)\n",
    "    p0 = [np.mean(x), 1.0]  # Initial guess for Tm, offset\n",
    "    popt, pcov = curve_fit(sigmoid, x, y, p0)\n",
    "    return popt, pcov\n",
    "\n",
    "\n",
    "def plot_stability(x, y, popt):\n",
    "    x_fit = np.linspace(x[0], x[-1], 50)  # Draw model fit\n",
    "    y_fit = sigmoid(x_fit, *popt)\n",
    "    # Plot data and fit\n",
    "    plt.plot(x, y, '.')\n",
    "    plt.plot(x_fit, y_fit)\n",
    "\n",
    "\n",
    "sequence = 'SIINFEKL'\n",
    "pidx = ms_peptide_data[ms_peptide_data['sequence'] == sequence].index\n",
    "assert len(pidx) == 1  # Make sure this maps to only one peptide\n",
    "tmt_values = peptide_tmt_norm.loc[pidx[0]]\n",
    "tmt_values = (tmt_values/tmt_values[0]).values  # Scale values to 0-1\n",
    "temps = tmt_params['temp'].values\n",
    "\n",
    "popt, pcov = compute_stability(temps, tmt_values)\n",
    "plot_stability(temps, tmt_values, popt)\n",
    "print(\"Tm = {}\".format(popt[0]))"
   ]
  },
  {
   "cell_type": "code",
   "execution_count": null,
   "metadata": {},
   "outputs": [
    {
     "name": "stdout",
     "output_type": "stream",
     "text": [
      "Converted 00_core.ipynb.\n",
      "Converted index.ipynb.\n"
     ]
    }
   ],
   "source": [
    "from nbdev.export import notebook2script; notebook2script()"
   ]
  }
 ],
 "metadata": {
  "kernelspec": {
   "display_name": "Python 3",
   "language": "python",
   "name": "python3"
  }
 },
 "nbformat": 4,
 "nbformat_minor": 2
}
